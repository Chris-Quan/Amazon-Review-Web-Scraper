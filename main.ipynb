{
 "cells": [
  {
   "cell_type": "code",
   "execution_count": 1,
   "metadata": {},
   "outputs": [],
   "source": [
    "# import libraries \n",
    "\n",
    "from bs4 import BeautifulSoup\n",
    "import requests\n",
    "import time\n",
    "import datetime\n",
    "\n",
    "import smtplib"
   ]
  },
  {
   "cell_type": "code",
   "execution_count": 22,
   "metadata": {},
   "outputs": [
    {
     "name": "stdout",
     "output_type": "stream",
     "text": [
      "\n",
      "            tomtoc 15.6 Inch Laptop Shoulder Bag for 16-inch New MacBook Pro A2141, Anti-Shock Laptop Messenger Bag Briefcase Fits 13 14 15 15.6 Inch HP Dell Acer Lenovo Asus Samsung Notebook Tablet\n",
      "           \n",
      "\n",
      "\n",
      "                               $82.94\n",
      "                              \n",
      "\n",
      "\n",
      "\n",
      "\n",
      "                                82\n",
      "                                \n",
      "                                 .\n",
      "                                \n",
      "\n",
      "\n",
      "                                94\n",
      "                               \n",
      "\n",
      "\n"
     ]
    }
   ],
   "source": [
    "URL = 'https://www.amazon.ca/tomtoc-Protective-Compartment-Multifunctional-Messenger/dp/B07D8YB3CP/ref=pd_ci_mcx_mh_mcx_views_0?pd_rd_w=2tH8X&content-id=amzn1.sym.51ce09d4-a5e1-4c26-916a-dd527820dcd6&pf_rd_p=51ce09d4-a5e1-4c26-916a-dd527820dcd6&pf_rd_r=7F7Q2CRN1R0NDFTD6T12&pd_rd_wg=usMKo&pd_rd_r=95f9256a-b847-4f85-b452-0acbcc085194&pd_rd_i=B07D8YB3CP&th=1'\n",
    "\n",
    "headers = {\"User-Agent\": \"Mozilla/5.0 (Windows NT 10.0; Win64; x64) AppleWebKit/537.36 (KHTML, like Gecko) Chrome/78.0.3904.108 Safari/537.36\", \"Accept-Encoding\":\"gzip, deflate\", \"Accept\":\"text/html,application/xhtml+xml,application/xml;q=0.9,*/*;q=0.8\", \"DNT\":\"1\",\"Connection\":\"close\", \"Upgrade-Insecure-Requests\":\"1\"}\n",
    "\n",
    "page = requests.get(URL, headers=headers)\n",
    "\n",
    "soup1 = BeautifulSoup(page.content, \"html.parser\")\n",
    "\n",
    "soup2 = BeautifulSoup(soup1.prettify(), \"html.parser\")\n",
    "\n",
    "title = soup2.find(id='productTitle').get_text()\n",
    "#id=\"tp_price_block_total_price_ww\">\n",
    "price = soup2.find(id='tp_price_block_total_price_ww').get_text()\n",
    "\n",
    "\n",
    "print(title)\n",
    "print(price)"
   ]
  },
  {
   "cell_type": "code",
   "execution_count": 23,
   "metadata": {},
   "outputs": [
    {
     "name": "stdout",
     "output_type": "stream",
     "text": [
      "2023-05-02\n"
     ]
    }
   ],
   "source": [
    "import datetime\n",
    "\n",
    "today = datetime.date.today()\n",
    "\n",
    "print(today)"
   ]
  },
  {
   "cell_type": "code",
   "execution_count": null,
   "metadata": {},
   "outputs": [],
   "source": []
  },
  {
   "cell_type": "code",
   "execution_count": null,
   "metadata": {},
   "outputs": [],
   "source": []
  }
 ],
 "metadata": {
  "kernelspec": {
   "display_name": "base",
   "language": "python",
   "name": "python3"
  },
  "language_info": {
   "codemirror_mode": {
    "name": "ipython",
    "version": 3
   },
   "file_extension": ".py",
   "mimetype": "text/x-python",
   "name": "python",
   "nbconvert_exporter": "python",
   "pygments_lexer": "ipython3",
   "version": "3.10.9"
  },
  "orig_nbformat": 4
 },
 "nbformat": 4,
 "nbformat_minor": 2
}
